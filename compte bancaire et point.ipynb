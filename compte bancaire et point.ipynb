{
 "cells": [
  {
   "cell_type": "code",
   "execution_count": 2,
   "metadata": {},
   "outputs": [
    {
     "name": "stdout",
     "output_type": "stream",
     "text": [
      "Le solde du compte bancaire de Duchmol est de 950 euros.\n",
      "Le solde du compte bancaire de Dupont est de 1025 euros.\n"
     ]
    }
   ],
   "source": [
    "class CompteBancaire:\n",
    "\n",
    "    def __init__(self, nom = 'Dupont', solde = 1000):\n",
    "        self.nom = nom\n",
    "        self.solde = solde\n",
    "\n",
    "    def affiche(self):\n",
    "        print('Le solde du compte bancaire de {} est de {} euros.'.format(self.nom, self.solde))\n",
    "\n",
    "    def depot(self, somme):\n",
    "        self.solde += somme\n",
    "\n",
    "    def retrait(self, somme):\n",
    "        self.solde -= somme\n",
    "        \n",
    "compte1 = CompteBancaire('Duchmol', 800)\n",
    "compte1.depot(350)\n",
    "compte1.retrait(200)\n",
    "compte1.affiche()\n",
    "\n",
    "compte2 = CompteBancaire()\n",
    "compte2.depot(25)\n",
    "compte2.affiche()\n"
   ]
  },
  {
   "cell_type": "code",
   "execution_count": 3,
   "metadata": {},
   "outputs": [
    {
     "name": "stdout",
     "output_type": "stream",
     "text": [
      "P(2.00 , 3.00)\n",
      "P(1.00 , -5.00 , 6.00)\n"
     ]
    }
   ],
   "source": [
    "class Point:\n",
    "    def __init__(self, x, y, z = None):\n",
    "        self.x = x\n",
    "        self.y = y\n",
    "        self.z = z\n",
    "\n",
    "    def ToString(self):\n",
    "        if self.z:\n",
    "            print('P({:.2f} , {:.2f} , {:.2f})'.format(self.x, self.y, self.z))\n",
    "        else:\n",
    "            print('P({:.2f} , {:.2f})'.format(self.x, self.y))\n",
    "\n",
    "P1=Point(2,3)\n",
    "P1.ToString()\n",
    "P2=Point(1,-5,6)\n",
    "P2.ToString()\n"
   ]
  },
  {
   "cell_type": "code",
   "execution_count": null,
   "metadata": {},
   "outputs": [],
   "source": []
  }
 ],
 "metadata": {
  "kernelspec": {
   "display_name": "Python 2",
   "language": "python",
   "name": "python2"
  },
  "language_info": {
   "codemirror_mode": {
    "name": "ipython",
    "version": 2
   },
   "file_extension": ".py",
   "mimetype": "text/x-python",
   "name": "python",
   "nbconvert_exporter": "python",
   "pygments_lexer": "ipython2",
   "version": "2.7.17"
  }
 },
 "nbformat": 4,
 "nbformat_minor": 2
}
