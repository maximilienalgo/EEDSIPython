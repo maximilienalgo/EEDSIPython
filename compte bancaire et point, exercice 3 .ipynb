{
 "cells": [
  {
   "cell_type": "code",
   "execution_count": 2,
   "metadata": {},
   "outputs": [
    {
     "name": "stdout",
     "output_type": "stream",
     "text": [
      "Le solde du compte bancaire de Duchmol est de 950 euros.\n",
      "Le solde du compte bancaire de Dupont est de 1025 euros.\n"
     ]
    }
   ],
   "source": [
    "class CompteBancaire:\n",
    "\n",
    "    def __init__(self, nom = 'Dupont', solde = 1000):\n",
    "        self.nom = nom\n",
    "        self.solde = solde\n",
    "\n",
    "    def affiche(self):\n",
    "        print('Le solde du compte bancaire de {} est de {} euros.'.format(self.nom, self.solde))\n",
    "\n",
    "    def depot(self, somme):\n",
    "        self.solde += somme\n",
    "\n",
    "    def retrait(self, somme):\n",
    "        self.solde -= somme\n",
    "        \n",
    "compte1 = CompteBancaire('Duchmol', 800)\n",
    "compte1.depot(350)\n",
    "compte1.retrait(200)\n",
    "compte1.affiche()\n",
    "\n",
    "compte2 = CompteBancaire()\n",
    "compte2.depot(25)\n",
    "compte2.affiche()\n"
   ]
  },
  {
   "cell_type": "code",
   "execution_count": 3,
   "metadata": {},
   "outputs": [
    {
     "name": "stdout",
     "output_type": "stream",
     "text": [
      "P(2.00 , 3.00)\n",
      "P(1.00 , -5.00 , 6.00)\n"
     ]
    }
   ],
   "source": [
    "class Point:\n",
    "    def __init__(self, x, y, z = None):\n",
    "        self.x = x\n",
    "        self.y = y\n",
    "        self.z = z\n",
    "\n",
    "    def ToString(self):\n",
    "        if self.z:\n",
    "            print('P({:.2f} , {:.2f} , {:.2f})'.format(self.x, self.y, self.z))\n",
    "        else:\n",
    "            print('P({:.2f} , {:.2f})'.format(self.x, self.y))\n",
    "\n",
    "P1=Point(2,3)\n",
    "P1.ToString()\n",
    "P2=Point(1,-5,6)\n",
    "P2.ToString()\n"
   ]
  },
  {
   "cell_type": "code",
   "execution_count": 21,
   "metadata": {
    "scrolled": true
   },
   "outputs": [
    {
     "name": "stdout",
     "output_type": "stream",
     "text": [
      "Nom: Ilyass\n",
      "Prénom: Math\n",
      "Date de naissance: 1 / 7 / 1982\n",
      "Nom: Ilyass\n",
      "Prénom: Math\n",
      "Date de naissance: 1 / 7 / 1985\n",
      "Salaire: 7865.548\n",
      "Nom: Ilyass\n",
      "Prénom: Math\n",
      "Date de naissance: 1 / 7 / 1988\n",
      "Salaire: 7865.548\n",
      "Service: Ressource humaine\n"
     ]
    }
   ],
   "source": [
    "class DateNaissance:\n",
    "\n",
    "    def __init__(self, jour, mois, annee):\n",
    "        self.jour = jour\n",
    "        self.mois = mois\n",
    "        self.annee = annee\n",
    "\n",
    "    def __str__(self):\n",
    "        return (\"{} / {} / {}\").format(self.jour, self.mois, self.annee)\n",
    "\n",
    "\n",
    "class Personne:\n",
    "\n",
    "    def __init__(self, nom, prenom, dateNaissance):\n",
    "        self.nom = nom\n",
    "        self.prenom = prenom\n",
    "        self.dateNaissance = dateNaissance\n",
    "\n",
    "    def afficher(self):\n",
    "        print(\"Nom: {}\".format(self.nom))\n",
    "        print(\"Prénom: {}\".format(self.prenom))\n",
    "        print(\"Date de naissance: {}\".format(self.dateNaissance))\n",
    "        \n",
    "\n",
    "class Employe(Personne):\n",
    "\n",
    "    def __init__(self, nom, prenom, dateNaissance, salaire):\n",
    "        Personne.__init__(self, nom, prenom, dateNaissance)\n",
    "        self.salaire = salaire\n",
    "\n",
    "    def afficher(self):\n",
    "        Personne.afficher(self)\n",
    "        print(\"Salaire: {}\".format(self.salaire))\n",
    "        \n",
    "class Chef(Employe):\n",
    "\n",
    "    def __init__(self, nom, prenom, dateNaissance, salaire, service):\n",
    "        Employe.__init__(self, nom, prenom, dateNaissance, salaire)\n",
    "        self.service = service\n",
    "\n",
    "    def afficher(self):\n",
    "        Employe.afficher(self)\n",
    "        print(\"Service: {}\".format(self.service))\n",
    "        \n",
    "\n",
    "P = Personne('Ilyass', 'Math', DateNaissance(1, 7, 1982))\n",
    "P.afficher()\n",
    "\n",
    "E= Employe('Ilyass','Math',DateNaissance(1,7,1985),7865.548)\n",
    "E.afficher()\n",
    "\n",
    "Ch= Chef('Ilyass','Math',DateNaissance(1,7,1988),7865.548,'Ressource humaine')\n",
    "Ch.afficher()\n",
    "\n",
    "\n"
   ]
  },
  {
   "cell_type": "code",
   "execution_count": null,
   "metadata": {},
   "outputs": [],
   "source": []
  }
 ],
 "metadata": {
  "kernelspec": {
   "display_name": "Python 2",
   "language": "python",
   "name": "python2"
  },
  "language_info": {
   "codemirror_mode": {
    "name": "ipython",
    "version": 2
   },
   "file_extension": ".py",
   "mimetype": "text/x-python",
   "name": "python",
   "nbconvert_exporter": "python",
   "pygments_lexer": "ipython2",
   "version": "2.7.17"
  }
 },
 "nbformat": 4,
 "nbformat_minor": 2
}
