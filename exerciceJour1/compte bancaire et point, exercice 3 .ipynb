{
 "cells": [
  {
   "cell_type": "code",
   "execution_count": 2,
   "metadata": {},
   "outputs": [
    {
     "name": "stdout",
     "output_type": "stream",
     "text": [
      "Le solde du compte bancaire de Duchmol est de 950 euros.\n",
      "Le solde du compte bancaire de Dupont est de 1025 euros.\n"
     ]
    }
   ],
   "source": [
    "class CompteBancaire:\n",
    "\n",
    "    def __init__(self, nom = 'Dupont', solde = 1000):\n",
    "        self.nom = nom\n",
    "        self.solde = solde\n",
    "\n",
    "    def affiche(self):\n",
    "        print('Le solde du compte bancaire de {} est de {} euros.'.format(self.nom, self.solde))\n",
    "\n",
    "    def depot(self, somme):\n",
    "        self.solde += somme\n",
    "\n",
    "    def retrait(self, somme):\n",
    "        self.solde -= somme\n",
    "        \n",
    "compte1 = CompteBancaire('Duchmol', 800)\n",
    "compte1.depot(350)\n",
    "compte1.retrait(200)\n",
    "compte1.affiche()\n",
    "\n",
    "compte2 = CompteBancaire()\n",
    "compte2.depot(25)\n",
    "compte2.affiche()\n"
   ]
  },
  {
   "cell_type": "code",
   "execution_count": 3,
   "metadata": {},
   "outputs": [
    {
     "name": "stdout",
     "output_type": "stream",
     "text": [
      "P(2.00 , 3.00)\n",
      "P(1.00 , -5.00 , 6.00)\n"
     ]
    }
   ],
   "source": [
    "class Point:\n",
    "    def __init__(self, x, y, z = None):\n",
    "        self.x = x\n",
    "        self.y = y\n",
    "        self.z = z\n",
    "\n",
    "    def ToString(self):\n",
    "        if self.z:\n",
    "            print('P({:.2f} , {:.2f} , {:.2f})'.format(self.x, self.y, self.z))\n",
    "        else:\n",
    "            print('P({:.2f} , {:.2f})'.format(self.x, self.y))\n",
    "\n",
    "P1=Point(2,3)\n",
    "P1.ToString()\n",
    "P2=Point(1,-5,6)\n",
    "P2.ToString()\n"
   ]
  },
  {
   "cell_type": "code",
   "execution_count": 21,
   "metadata": {
    "scrolled": true
   },
   "outputs": [
    {
     "name": "stdout",
     "output_type": "stream",
     "text": [
      "Nom: Ilyass\n",
      "Prénom: Math\n",
      "Date de naissance: 1 / 7 / 1982\n",
      "Nom: Ilyass\n",
      "Prénom: Math\n",
      "Date de naissance: 1 / 7 / 1985\n",
      "Salaire: 7865.548\n",
      "Nom: Ilyass\n",
      "Prénom: Math\n",
      "Date de naissance: 1 / 7 / 1988\n",
      "Salaire: 7865.548\n",
      "Service: Ressource humaine\n"
     ]
    }
   ],
   "source": [
    "class DateNaissance:\n",
    "\n",
    "    def __init__(self, jour, mois, annee):\n",
    "        self.jour = jour\n",
    "        self.mois = mois\n",
    "        self.annee = annee\n",
    "\n",
    "    def __str__(self):\n",
    "        return (\"{} / {} / {}\").format(self.jour, self.mois, self.annee)\n",
    "\n",
    "\n",
    "class Personne:\n",
    "\n",
    "    def __init__(self, nom, prenom, dateNaissance):\n",
    "        self.nom = nom\n",
    "        self.prenom = prenom\n",
    "        self.dateNaissance = dateNaissance\n",
    "\n",
    "    def afficher(self):\n",
    "        print(\"Nom: {}\".format(self.nom))\n",
    "        print(\"Prénom: {}\".format(self.prenom))\n",
    "        print(\"Date de naissance: {}\".format(self.dateNaissance))\n",
    "        \n",
    "\n",
    "class Employe(Personne):\n",
    "\n",
    "    def __init__(self, nom, prenom, dateNaissance, salaire):\n",
    "        Personne.__init__(self, nom, prenom, dateNaissance)\n",
    "        self.salaire = salaire\n",
    "\n",
    "    def afficher(self):\n",
    "        Personne.afficher(self)\n",
    "        print(\"Salaire: {}\".format(self.salaire))\n",
    "        \n",
    "class Chef(Employe):\n",
    "\n",
    "    def __init__(self, nom, prenom, dateNaissance, salaire, service):\n",
    "        Employe.__init__(self, nom, prenom, dateNaissance, salaire)\n",
    "        self.service = service\n",
    "\n",
    "    def afficher(self):\n",
    "        Employe.afficher(self)\n",
    "        print(\"Service: {}\".format(self.service))\n",
    "        \n",
    "\n",
    "P = Personne('Ilyass', 'Math', DateNaissance(1, 7, 1982))\n",
    "P.afficher()\n",
    "\n",
    "E= Employe('Ilyass','Math',DateNaissance(1,7,1985),7865.548)\n",
    "E.afficher()\n",
    "\n",
    "Ch= Chef('Ilyass','Math',DateNaissance(1,7,1988),7865.548,'Ressource humaine')\n",
    "Ch.afficher()\n",
    "\n",
    "\n"
   ]
  },
  {
   "cell_type": "code",
   "execution_count": 57,
   "metadata": {},
   "outputs": [
    {
     "name": "stdout",
     "output_type": "stream",
     "text": [
      "Lettre: \n",
      "Adresse destination: Lille\n",
      "Adresse expédition: Paris\n",
      "Poids: 0\n",
      "Type: normal\n",
      "Format: A4\n",
      "Prix du timbre 0.00€\n",
      "Colis: \n",
      "Adresse destination: Marrakeche\n",
      "Adresse expédition: Barcelone\n",
      "Poids: 3000\n",
      "Type: expresse\n",
      "Volume: 2.25\n",
      "Prix du timbre 3.38€\n"
     ]
    }
   ],
   "source": [
    "class Courrier():\n",
    "    def __init__(self, destinationAdress, destinationShipping, poids, expeditionType):\n",
    "        self.poids = poids / 1000\n",
    "        self.expeditionType = expeditionType\n",
    "        self.destinationAdress = destinationAdress\n",
    "        self.destinationShipping = destinationShipping\n",
    "        self.multiplicateur = 1 if self.expeditionType == \"normal\" else 2\n",
    "\n",
    "\n",
    "    def ToString(self):\n",
    "        print(\"Adresse destination: {}\".format(self.destinationAdress))\n",
    "        print(\"Adresse expédition: {}\".format(self.destinationShipping))\n",
    "        print(\"Poids: {}\".format(self.poids * 1000))\n",
    "        print(\"Type: {}\".format(self.expeditionType))\n",
    "\n",
    "\n",
    "class Lettre(Courrier):\n",
    "    def __init__(self, destinationAdress, destinationShipping, poids, expeditionType, format):\n",
    "        Courrier.__init__(self, destinationAdress, destinationShipping, poids, expeditionType)\n",
    "        self.format = format\n",
    "        self.basicPrice = 2.50 if format == \"A4\" else 3.50\n",
    "\n",
    "    def calculTimbre(self):\n",
    "        return self.basicPrice * self.multiplicateur * self.poids\n",
    "\n",
    "    def ToString(self):\n",
    "        print(\"Lettre: \")\n",
    "        Courrier.ToString(self)\n",
    "        print(\"Format: {}\".format(self.format))\n",
    "        print(\"Prix du timbre {:0.2f}€\".format(self.calculTimbre()))\n",
    "\n",
    "class Colis(Courrier):\n",
    "    def __init__(self, destinationAdress, destinationShipping, poids, expeditionType, volume):\n",
    "        Courrier.__init__(self, destinationAdress, destinationShipping, poids, expeditionType)\n",
    "        self.volume = volume\n",
    "\n",
    "    def calculTimbre(self):\n",
    "        return 0.25 * self.volume * self.poids * self.multiplicateur\n",
    "\n",
    "    def ToString(self):\n",
    "        print(\"Colis: \")\n",
    "        Courrier.ToString(self)\n",
    "        print(\"Volume: {}\".format(self.volume))\n",
    "        print(\"Prix du timbre {:0.2f}€\".format(self.calculTimbre()))\n",
    "\n",
    "L1 = Lettre(\"Lille\", \"Paris\", 80, \"normal\", \"A4\")\n",
    "L1.ToString()\n",
    "\n",
    "C1 = Colis(\"Marrakeche\", \"Barcelone\", 3500, \"expresse\", 2.25)\n",
    "C1.ToString()"
   ]
  },
  {
   "cell_type": "code",
   "execution_count": null,
   "metadata": {},
   "outputs": [],
   "source": []
  },
  {
   "cell_type": "code",
   "execution_count": null,
   "metadata": {},
   "outputs": [],
   "source": []
  },
  {
   "cell_type": "code",
   "execution_count": null,
   "metadata": {},
   "outputs": [],
   "source": []
  },
  {
   "cell_type": "code",
   "execution_count": null,
   "metadata": {},
   "outputs": [],
   "source": []
  }
 ],
 "metadata": {
  "kernelspec": {
   "display_name": "Python 2",
   "language": "python",
   "name": "python2"
  },
  "language_info": {
   "codemirror_mode": {
    "name": "ipython",
    "version": 2
   },
   "file_extension": ".py",
   "mimetype": "text/x-python",
   "name": "python",
   "nbconvert_exporter": "python",
   "pygments_lexer": "ipython2",
   "version": "2.7.17"
  }
 },
 "nbformat": 4,
 "nbformat_minor": 2
}
