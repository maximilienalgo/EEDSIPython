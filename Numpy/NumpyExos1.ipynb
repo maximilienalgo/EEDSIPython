{
 "cells": [
  {
   "cell_type": "code",
   "execution_count": 2,
   "metadata": {},
   "outputs": [],
   "source": [
    "import numpy as np"
   ]
  },
  {
   "cell_type": "markdown",
   "metadata": {},
   "source": [
    "# Quelques fonctions utiles"
   ]
  },
  {
   "cell_type": "markdown",
   "metadata": {},
   "source": [
    "On a créé un tableau 2D `rdm_mat` contenant des valeurs aléatoires. "
   ]
  },
  {
   "cell_type": "code",
   "execution_count": 3,
   "metadata": {},
   "outputs": [
    {
     "name": "stdout",
     "output_type": "stream",
     "text": [
      "[[0.82010458 0.95237668]\n",
      " [0.87718584 0.67912544]]\n"
     ]
    }
   ],
   "source": [
    "rdm_mat = np.random.rand(2,2)\n",
    "print(rdm_mat)"
   ]
  },
  {
   "cell_type": "markdown",
   "metadata": {},
   "source": [
    "Donner le type de la variable rdm_mat"
   ]
  },
  {
   "cell_type": "code",
   "execution_count": 4,
   "metadata": {},
   "outputs": [
    {
     "name": "stdout",
     "output_type": "stream",
     "text": [
      "float64\n"
     ]
    }
   ],
   "source": [
    "print(rdm_mat.dtype)\n"
   ]
  },
  {
   "cell_type": "markdown",
   "metadata": {},
   "source": [
    "Donner la somme des éléments de ce tableau 2D"
   ]
  },
  {
   "cell_type": "code",
   "execution_count": 5,
   "metadata": {},
   "outputs": [
    {
     "name": "stdout",
     "output_type": "stream",
     "text": [
      "3.32879254395637\n"
     ]
    }
   ],
   "source": [
    "print(rdm_mat.sum())\n"
   ]
  },
  {
   "cell_type": "markdown",
   "metadata": {},
   "source": [
    "Faire en sorte de récupérer la valeur maximale sur chaque ligne (sans boucles) avec la fonction np.max"
   ]
  },
  {
   "cell_type": "code",
   "execution_count": 6,
   "metadata": {},
   "outputs": [
    {
     "name": "stdout",
     "output_type": "stream",
     "text": [
      "[0.95237668 0.87718584]\n"
     ]
    }
   ],
   "source": [
    "print(np.amax(rdm_mat, axis=1))"
   ]
  },
  {
   "cell_type": "markdown",
   "metadata": {},
   "source": [
    "Faire de même pour récupérer la valeur maximum pour chaque colonne (sans boucles)"
   ]
  },
  {
   "cell_type": "code",
   "execution_count": 7,
   "metadata": {},
   "outputs": [
    {
     "name": "stdout",
     "output_type": "stream",
     "text": [
      "[0.87718584 0.95237668]\n"
     ]
    }
   ],
   "source": [
    "print(np.amax(rdm_mat, axis=0))\n"
   ]
  },
  {
   "cell_type": "markdown",
   "metadata": {},
   "source": [
    "Faire la même chose (max des lignes) en définissant un tableau avec une boucle for et la fonction max de numpy"
   ]
  },
  {
   "cell_type": "code",
   "execution_count": 8,
   "metadata": {},
   "outputs": [
    {
     "name": "stdout",
     "output_type": "stream",
     "text": [
      "[[0.82010458 0.95237668]\n",
      " [0.87718584 0.67912544]]\n",
      "[0.95237668 0.87718584]\n"
     ]
    }
   ],
   "source": [
    "print(rdm_mat)\n",
    "rdm_mat_max = np.array([])\n",
    "\n",
    "for cell in rdm_mat:\n",
    "    rdm_mat_max = np.append(rdm_mat_max, np.max(cell))\n",
    "    \n",
    "print(rdm_mat_max)"
   ]
  },
  {
   "cell_type": "code",
   "execution_count": null,
   "metadata": {},
   "outputs": [],
   "source": []
  },
  {
   "cell_type": "code",
   "execution_count": null,
   "metadata": {},
   "outputs": [],
   "source": []
  },
  {
   "cell_type": "markdown",
   "metadata": {},
   "source": [
    "On crée un vecteur aléatoire de taille 100 `rdm_vect`"
   ]
  },
  {
   "cell_type": "code",
   "execution_count": 1,
   "metadata": {},
   "outputs": [
    {
     "data": {
      "text/plain": [
       "(100,)"
      ]
     },
     "execution_count": 1,
     "metadata": {},
     "output_type": "execute_result"
    }
   ],
   "source": [
    "rdm_vect = np.random.randn(100)\n",
    "rdm_vect.shape"
   ]
  },
  {
   "cell_type": "markdown",
   "metadata": {},
   "source": [
    "Récupérer la position de la valeur maximale du vecteur avec la méthode np.argmax"
   ]
  },
  {
   "cell_type": "code",
   "execution_count": 9,
   "metadata": {},
   "outputs": [
    {
     "data": {
      "text/plain": [
       "(100,)"
      ]
     },
     "execution_count": 9,
     "metadata": {},
     "output_type": "execute_result"
    }
   ],
   "source": [
    "rdm_vect = np.random.randn(100)\n",
    "rdm_vect.shape"
   ]
  },
  {
   "cell_type": "markdown",
   "metadata": {},
   "source": [
    "Afficher cette valeur "
   ]
  },
  {
   "cell_type": "code",
   "execution_count": 10,
   "metadata": {},
   "outputs": [
    {
     "name": "stdout",
     "output_type": "stream",
     "text": [
      "[ 1.12096272 -0.24000907  0.69748125 -1.02249374 -0.0135635   0.70497236\n",
      " -0.66815636  0.24248298 -1.05882675  1.13979763  0.42711188 -0.08301802\n",
      "  1.73063522  0.8526791  -0.04057297  1.48426211  1.17968617  0.39168258\n",
      "  0.17183887  1.61241666 -0.16982242  0.38041224 -1.15494575 -2.01468064\n",
      " -1.59843213  2.15971908 -0.55307031  0.17256585  0.46332772  0.99723993\n",
      "  0.17276118  1.37696972  0.37498767  0.84548742  0.65912498  0.1136102\n",
      " -0.83550798 -0.36211971  0.08794321  0.43174018 -1.40933346 -0.25468238\n",
      "  2.91835797  0.06478732 -2.1668113  -1.69622638  0.30037759  0.4361098\n",
      "  0.08525062 -1.38075273  0.19064209  0.90571562  0.10654119 -0.08271231\n",
      "  1.61594911 -1.07720456 -0.44827554  0.21346276 -0.08784089 -0.12962856\n",
      "  0.30509979 -0.37100217 -0.3002807  -0.13191029 -2.0041557  -1.36718072\n",
      " -1.51188745  0.39722806  0.42197118  0.99315527  0.35960237  0.21050261\n",
      "  0.34280485  1.53226429 -0.56305001 -0.07574338  0.83469472 -1.06545241\n",
      " -0.88229728 -0.24228838 -1.0523646   1.15561792  0.06924397 -1.42313172\n",
      "  0.95818185  1.37082602  1.19543516 -1.0809958   0.17767402  2.47397774\n",
      " -0.59887701 -2.68995778  0.02020711 -1.71901842  0.42150395 -0.64481674\n",
      "  0.68024915 -1.29640289 -0.18078409  0.87258197]\n",
      "42\n"
     ]
    }
   ],
   "source": [
    "print(rdm_vect)\n",
    "print(np.argmax(rdm_vect))"
   ]
  },
  {
   "cell_type": "markdown",
   "metadata": {},
   "source": [
    "Convertir le vecteur en un tableau 10, 10"
   ]
  },
  {
   "cell_type": "code",
   "execution_count": 11,
   "metadata": {},
   "outputs": [
    {
     "name": "stdout",
     "output_type": "stream",
     "text": [
      "[[ 1.12096272 -0.24000907  0.69748125 -1.02249374 -0.0135635   0.70497236\n",
      "  -0.66815636  0.24248298 -1.05882675  1.13979763]\n",
      " [ 0.42711188 -0.08301802  1.73063522  0.8526791  -0.04057297  1.48426211\n",
      "   1.17968617  0.39168258  0.17183887  1.61241666]\n",
      " [-0.16982242  0.38041224 -1.15494575 -2.01468064 -1.59843213  2.15971908\n",
      "  -0.55307031  0.17256585  0.46332772  0.99723993]\n",
      " [ 0.17276118  1.37696972  0.37498767  0.84548742  0.65912498  0.1136102\n",
      "  -0.83550798 -0.36211971  0.08794321  0.43174018]\n",
      " [-1.40933346 -0.25468238  2.91835797  0.06478732 -2.1668113  -1.69622638\n",
      "   0.30037759  0.4361098   0.08525062 -1.38075273]\n",
      " [ 0.19064209  0.90571562  0.10654119 -0.08271231  1.61594911 -1.07720456\n",
      "  -0.44827554  0.21346276 -0.08784089 -0.12962856]\n",
      " [ 0.30509979 -0.37100217 -0.3002807  -0.13191029 -2.0041557  -1.36718072\n",
      "  -1.51188745  0.39722806  0.42197118  0.99315527]\n",
      " [ 0.35960237  0.21050261  0.34280485  1.53226429 -0.56305001 -0.07574338\n",
      "   0.83469472 -1.06545241 -0.88229728 -0.24228838]\n",
      " [-1.0523646   1.15561792  0.06924397 -1.42313172  0.95818185  1.37082602\n",
      "   1.19543516 -1.0809958   0.17767402  2.47397774]\n",
      " [-0.59887701 -2.68995778  0.02020711 -1.71901842  0.42150395 -0.64481674\n",
      "   0.68024915 -1.29640289 -0.18078409  0.87258197]]\n"
     ]
    }
   ],
   "source": [
    "rdm_array = rdm_vect.reshape(10,10)\n",
    "print(rdm_array)"
   ]
  },
  {
   "cell_type": "markdown",
   "metadata": {},
   "source": [
    "Calculer la moyenne de chaque ligne de ce tableau (sans boucles)"
   ]
  },
  {
   "cell_type": "code",
   "execution_count": 15,
   "metadata": {},
   "outputs": [
    {
     "name": "stdout",
     "output_type": "stream",
     "text": [
      "moyenne lignes : [ 0.09026475  0.77267216 -0.13176864  0.28649969 -0.31029229  0.12066489\n",
      " -0.35689627  0.04510374  0.38444645 -0.51353148]\n",
      "moyenne colonnes : [-0.06542175  0.03905487  0.48050328 -0.3098729  -0.27318257  0.0972218\n",
      "  0.01735451 -0.19514388 -0.08017434  0.67682397]\n"
     ]
    }
   ],
   "source": [
    "rdm_moy_row = np.mean(rdm_array, axis=1)\n",
    "print(\"moyenne lignes : {}\".format(rdm_moy_row))\n",
    "\n",
    "rdm_moy_column = np.mean(rdm_array, axis=0)\n",
    "print(\"moyenne colonnes : {}\".format(rdm_moy_column))"
   ]
  },
  {
   "cell_type": "markdown",
   "metadata": {},
   "source": [
    "Faire un tableau qui contient la moyenne de chaque colonne du tableau "
   ]
  },
  {
   "cell_type": "markdown",
   "metadata": {},
   "source": [
    "Calculer la somme de chaque colonne (sans boucles)"
   ]
  },
  {
   "cell_type": "code",
   "execution_count": 17,
   "metadata": {},
   "outputs": [
    {
     "name": "stdout",
     "output_type": "stream",
     "text": [
      "[ 0.90264752  7.7267216  -1.31768641  2.86499687 -3.10292295  1.20664891\n",
      " -3.56896272  0.45103739  3.84446455 -5.13531476]\n"
     ]
    }
   ],
   "source": [
    "rdm_add_row = np.sum(rdm_array, axis=1)\n",
    "print(rdm_add_row)\n"
   ]
  },
  {
   "cell_type": "markdown",
   "metadata": {},
   "source": [
    "Calculer la somme pour chaque ligne (sans boucles)"
   ]
  },
  {
   "cell_type": "code",
   "execution_count": 16,
   "metadata": {},
   "outputs": [
    {
     "name": "stdout",
     "output_type": "stream",
     "text": [
      "[-0.65421747  0.39054869  4.80503278 -3.098729   -2.73182572  0.97221801\n",
      "  0.17354515 -1.95143878 -0.80174339  6.76823972]\n"
     ]
    }
   ],
   "source": [
    "rdm_add_column = np.sum(rdm_array, axis=0)\n",
    "print(rdm_add_column)"
   ]
  },
  {
   "cell_type": "code",
   "execution_count": null,
   "metadata": {},
   "outputs": [],
   "source": []
  }
 ],
 "metadata": {
  "kernelspec": {
   "display_name": "Python 2",
   "language": "python",
   "name": "python2"
  },
  "language_info": {
   "codemirror_mode": {
    "name": "ipython",
    "version": 2
   },
   "file_extension": ".py",
   "mimetype": "text/x-python",
   "name": "python",
   "nbconvert_exporter": "python",
   "pygments_lexer": "ipython2",
   "version": "2.7.17"
  },
  "latex_envs": {
   "LaTeX_envs_menu_present": true,
   "autoclose": false,
   "autocomplete": true,
   "bibliofile": "biblio.bib",
   "cite_by": "apalike",
   "current_citInitial": 1,
   "eqLabelWithNumbers": true,
   "eqNumInitial": 1,
   "hotkeys": {
    "equation": "Ctrl-E",
    "itemize": "Ctrl-I"
   },
   "labels_anchors": false,
   "latex_user_defs": false,
   "report_style_numbering": false,
   "user_envs_cfg": false
  },
  "toc": {
   "base_numbering": 1,
   "nav_menu": {},
   "number_sections": true,
   "sideBar": true,
   "skip_h1_title": false,
   "title_cell": "Table of Contents",
   "title_sidebar": "Contents",
   "toc_cell": false,
   "toc_position": {},
   "toc_section_display": true,
   "toc_window_display": false
  },
  "varInspector": {
   "cols": {
    "lenName": 16,
    "lenType": 16,
    "lenVar": 40
   },
   "kernels_config": {
    "python": {
     "delete_cmd_postfix": "",
     "delete_cmd_prefix": "del ",
     "library": "var_list.py",
     "varRefreshCmd": "print(var_dic_list())"
    },
    "r": {
     "delete_cmd_postfix": ") ",
     "delete_cmd_prefix": "rm(",
     "library": "var_list.r",
     "varRefreshCmd": "cat(var_dic_list()) "
    }
   },
   "types_to_exclude": [
    "module",
    "function",
    "builtin_function_or_method",
    "instance",
    "_Feature"
   ],
   "window_display": false
  }
 },
 "nbformat": 4,
 "nbformat_minor": 2
}
