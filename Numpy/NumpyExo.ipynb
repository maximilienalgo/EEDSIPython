{
 "cells": [
  {
   "cell_type": "markdown",
   "metadata": {},
   "source": [
    "# Numpy exercices pratiques\n",
    "Ce notebook à pour objectif de vous faire pratiquer numpy dans toute sa généralité. \n",
    "Vous avez donc une liste de questions à faire ! Il ne faut pas hésiter à faire des recherches sur google ainsi que voir la [documentation officielle](https://docs.scipy.org/doc/numpy-1.13.0/reference/). "
   ]
  },
  {
   "cell_type": "markdown",
   "metadata": {},
   "source": [
    "#### Q1 : Importer le package numpy "
   ]
  },
  {
   "cell_type": "code",
   "execution_count": 4,
   "metadata": {},
   "outputs": [],
   "source": [
    "import numpy as np"
   ]
  },
  {
   "cell_type": "markdown",
   "metadata": {},
   "source": [
    "#### Q2 : Afficher la version de numpy et la configuration "
   ]
  },
  {
   "cell_type": "code",
   "execution_count": 5,
   "metadata": {
    "scrolled": true
   },
   "outputs": [
    {
     "data": {
      "text/plain": [
       "'1.16.6'"
      ]
     },
     "execution_count": 5,
     "metadata": {},
     "output_type": "execute_result"
    }
   ],
   "source": [
    "np.version.version"
   ]
  },
  {
   "cell_type": "markdown",
   "metadata": {},
   "source": [
    "#### Q3 : Créer un vecteur nul de taille 10"
   ]
  },
  {
   "cell_type": "code",
   "execution_count": 3,
   "metadata": {},
   "outputs": [
    {
     "name": "stdout",
     "output_type": "stream",
     "text": [
      "[4.67589418e-310 0.00000000e+000 0.00000000e+000 0.00000000e+000\n",
      " 0.00000000e+000 0.00000000e+000 0.00000000e+000 0.00000000e+000\n",
      " 0.00000000e+000 6.92046487e-310]\n"
     ]
    }
   ],
   "source": [
    "import numpy as np\n",
    "arr = np.empty(10)\n",
    "print(arr)\n"
   ]
  },
  {
   "cell_type": "markdown",
   "metadata": {},
   "source": [
    "#### Q4 : Créer un vecteur null de taille 10 et affecter la valeur 1 à la 4ème place (index 4) du vecteur"
   ]
  },
  {
   "cell_type": "code",
   "execution_count": 19,
   "metadata": {},
   "outputs": [
    {
     "name": "stdout",
     "output_type": "stream",
     "text": [
      "[0 1 2 3 1 5 6 7 8 9]\n"
     ]
    }
   ],
   "source": [
    "arr = np.empty(10)\n",
    "arr[5] = 1\n",
    "print (arr[5])\n"
   ]
  },
  {
   "cell_type": "markdown",
   "metadata": {},
   "source": [
    "#### Q5 : Créer un vecteur Z de 40 valeurs allant de 10 à 50 "
   ]
  },
  {
   "cell_type": "code",
   "execution_count": 25,
   "metadata": {},
   "outputs": [
    {
     "name": "stdout",
     "output_type": "stream",
     "text": [
      "[10 11 12 13 14 15 16 17 18 19 20 21 22 23 24 25 26 27 28 29 30 31 32 33\n",
      " 34 35 36 37 38 39 40 41 42 43 44 45 46 47 48 49 50]\n"
     ]
    }
   ],
   "source": [
    "z = np.arange( 10, 51, 1 )\n",
    "\n",
    "print(z)"
   ]
  },
  {
   "cell_type": "markdown",
   "metadata": {},
   "source": [
    "#### Q6 : Inverser Z (le premier élément devient donc le dernier)"
   ]
  },
  {
   "cell_type": "code",
   "execution_count": 26,
   "metadata": {},
   "outputs": [
    {
     "data": {
      "text/plain": [
       "array([50, 49, 48, 47, 46, 45, 44, 43, 42, 41, 40, 39, 38, 37, 36, 35, 34,\n",
       "       33, 32, 31, 30, 29, 28, 27, 26, 25, 24, 23, 22, 21, 20, 19, 18, 17,\n",
       "       16, 15, 14, 13, 12, 11, 10])"
      ]
     },
     "execution_count": 26,
     "metadata": {},
     "output_type": "execute_result"
    }
   ],
   "source": [
    "z[::-1]"
   ]
  },
  {
   "cell_type": "markdown",
   "metadata": {},
   "source": [
    "#### Q7 : Créer une matrice 3x3 avec des valeurs comprise entre 0 et 8 "
   ]
  },
  {
   "cell_type": "code",
   "execution_count": 30,
   "metadata": {},
   "outputs": [
    {
     "data": {
      "text/plain": [
       "array([[[0, 1, 2],\n",
       "        [3, 4, 5],\n",
       "        [6, 7, 8]]])"
      ]
     },
     "execution_count": 30,
     "metadata": {},
     "output_type": "execute_result"
    }
   ],
   "source": [
    "c = np.arange(9).reshape(1,3,3); c"
   ]
  },
  {
   "cell_type": "markdown",
   "metadata": {},
   "source": [
    "#### Q8 : Créer une matrice identié 3x3 "
   ]
  },
  {
   "cell_type": "code",
   "execution_count": null,
   "metadata": {},
   "outputs": [],
   "source": [
    "c = np.arange(9).reshape(1,3,3); c"
   ]
  },
  {
   "cell_type": "markdown",
   "metadata": {},
   "source": [
    "#### Q9 : Créer une matrice 3x3x3 avec des valeurs random "
   ]
  },
  {
   "cell_type": "code",
   "execution_count": 35,
   "metadata": {},
   "outputs": [
    {
     "data": {
      "text/plain": [
       "array([[[0.6090987 , 0.88096589, 0.02791358],\n",
       "        [0.32652884, 0.27613104, 0.81670762],\n",
       "        [0.93069904, 0.79126271, 0.66624606]],\n",
       "\n",
       "       [[0.0815864 , 0.65523456, 0.90613262],\n",
       "        [0.35488877, 0.71498807, 0.27727917],\n",
       "        [0.34534598, 0.25373854, 0.05357343]],\n",
       "\n",
       "       [[0.00240367, 0.13202469, 0.43148193],\n",
       "        [0.63909862, 0.40610341, 0.65162127],\n",
       "        [0.66845164, 0.7627866 , 0.92720405]]])"
      ]
     },
     "execution_count": 35,
     "metadata": {},
     "output_type": "execute_result"
    }
   ],
   "source": [
    "rd = np.random\n",
    "rd.rand(3,3,3)"
   ]
  },
  {
   "cell_type": "markdown",
   "metadata": {},
   "source": [
    "#### Q10 : Créer une matrice 10x10 avec des valeurs random et afficher le minimum et maximum de cette matrice"
   ]
  },
  {
   "cell_type": "code",
   "execution_count": 36,
   "metadata": {},
   "outputs": [
    {
     "data": {
      "text/plain": [
       "array([[0.11998468, 0.2166787 , 0.64661371, 0.04247502, 0.74923405,\n",
       "        0.50277866, 0.31489372, 0.81923134, 0.29677636, 0.02632773],\n",
       "       [0.76428333, 0.90041858, 0.86597936, 0.64519699, 0.38779893,\n",
       "        0.14695247, 0.87581872, 0.1447354 , 0.86498376, 0.98416925],\n",
       "       [0.40790728, 0.12460349, 0.26147891, 0.85875459, 0.40697981,\n",
       "        0.28875974, 0.44258324, 0.81460974, 0.16531861, 0.63163799],\n",
       "       [0.32561007, 0.96293546, 0.88575521, 0.99980016, 0.81153348,\n",
       "        0.02453993, 0.36365982, 0.20845267, 0.3704649 , 0.50366592],\n",
       "       [0.1972071 , 0.73369013, 0.52356018, 0.28946825, 0.10552901,\n",
       "        0.16958148, 0.44645135, 0.00247423, 0.60428791, 0.51470207],\n",
       "       [0.27050433, 0.52068194, 0.36497081, 0.29577251, 0.15524732,\n",
       "        0.0159324 , 0.52193586, 0.38609518, 0.24322375, 0.13786494],\n",
       "       [0.44402213, 0.06747236, 0.57068703, 0.4772487 , 0.62433722,\n",
       "        0.88161947, 0.98561611, 0.51779729, 0.80148513, 0.70051779],\n",
       "       [0.35855263, 0.27345673, 0.65014003, 0.94573174, 0.4379246 ,\n",
       "        0.3754644 , 0.38653254, 0.34696032, 0.80518693, 0.51951559],\n",
       "       [0.16787742, 0.40057888, 0.5272233 , 0.79786744, 0.17676549,\n",
       "        0.26826807, 0.583321  , 0.45482481, 0.78845805, 0.93168721],\n",
       "       [0.93449915, 0.66248272, 0.93859689, 0.5390899 , 0.90056824,\n",
       "        0.29264916, 0.64619352, 0.6812823 , 0.21389602, 0.77389239]])"
      ]
     },
     "execution_count": 36,
     "metadata": {},
     "output_type": "execute_result"
    }
   ],
   "source": [
    "rd = np.random\n",
    "rd.rand(10,10)"
   ]
  },
  {
   "cell_type": "markdown",
   "metadata": {},
   "source": [
    "#### Q11 : Créer une matrice 5x5 avec les valeurs 1,2,3,4 en dessous de la diagonale "
   ]
  },
  {
   "cell_type": "code",
   "execution_count": 34,
   "metadata": {
    "scrolled": true
   },
   "outputs": [
    {
     "data": {
      "text/plain": [
       "array([[0, 0, 0, 0, 0],\n",
       "       [1, 0, 0, 0, 0],\n",
       "       [0, 2, 0, 0, 0],\n",
       "       [0, 0, 3, 0, 0],\n",
       "       [0, 0, 0, 4, 0]])"
      ]
     },
     "execution_count": 34,
     "metadata": {},
     "output_type": "execute_result"
    }
   ],
   "source": [
    "neo = np.arange(1,5,1)\n",
    "np.diag(neo,-1)"
   ]
  },
  {
   "cell_type": "markdown",
   "metadata": {},
   "source": [
    "#### Q12 : Créer une liste random de taille 5 et donner la somme de ses éléments  "
   ]
  },
  {
   "cell_type": "code",
   "execution_count": 57,
   "metadata": {},
   "outputs": [
    {
     "name": "stdout",
     "output_type": "stream",
     "text": [
      "Total de [0.60872819 1.31697256 1.65106792 1.9157446  2.86735942] = 8.35987269129\n"
     ]
    }
   ],
   "source": [
    "arr1 = np.random.rand(5).cumsum()\n",
    "print(\"Total de {} = {}\".format(arr1, arr1.sum()))"
   ]
  },
  {
   "cell_type": "markdown",
   "metadata": {},
   "source": [
    "#### Q13 : Créer une liste random de taille 5 et donner la moyenne de ses éléments"
   ]
  },
  {
   "cell_type": "code",
   "execution_count": 49,
   "metadata": {},
   "outputs": [
    {
     "data": {
      "text/plain": [
       "1.8"
      ]
     },
     "execution_count": 49,
     "metadata": {},
     "output_type": "execute_result"
    }
   ],
   "source": [
    "rd = np.random\n",
    "\n",
    "rd.randint(0,5,5).mean()"
   ]
  },
  {
   "cell_type": "markdown",
   "metadata": {},
   "source": [
    "#### Q14 : En utilisant une fonction, donner la taille de la liste suivante :\n",
    "```python \n",
    "l = [x for x in range(11)]\n",
    "```"
   ]
  },
  {
   "cell_type": "code",
   "execution_count": 58,
   "metadata": {},
   "outputs": [
    {
     "name": "stdout",
     "output_type": "stream",
     "text": [
      "11\n"
     ]
    }
   ],
   "source": [
    "\n",
    "l = [x for x in range(11)]\n",
    "print(len(l))"
   ]
  },
  {
   "cell_type": "markdown",
   "metadata": {},
   "source": [
    "#### Q15 : Créer un tableau de taille 10 avec des valeurs comprises entre 0 et 1 EXCLUS "
   ]
  },
  {
   "cell_type": "code",
   "execution_count": 61,
   "metadata": {},
   "outputs": [
    {
     "name": "stdout",
     "output_type": "stream",
     "text": [
      "[0.1 0.2 0.3 0.4 0.5 0.6 0.7 0.8 0.9]\n"
     ]
    }
   ],
   "source": [
    "rd = np.arange(0, 1, 0.1)\n",
    "print(rd)"
   ]
  },
  {
   "cell_type": "markdown",
   "metadata": {},
   "source": [
    "#### Q16 : Soit deux tableau A et B de dimension 1 et de taille 5, créer A et B et afficher True si A et B sont égaux False sinon"
   ]
  },
  {
   "cell_type": "code",
   "execution_count": 62,
   "metadata": {},
   "outputs": [
    {
     "name": "stdout",
     "output_type": "stream",
     "text": [
      "FALSE\n"
     ]
    }
   ],
   "source": [
    "A = np.array([0,1,2,3,4])\n",
    "B = np.array([0,1,2,3,6])\n",
    "\n",
    "if np.greater_equal(A, B).all():\n",
    "    print(\"TRUE\")\n",
    "else :\n",
    "    print(\"FALSE\")"
   ]
  },
  {
   "cell_type": "markdown",
   "metadata": {},
   "source": [
    "#### Q17 : Convertir un tableau de float32 de dimension 1 et de taille 10 en un tableau de meme taille et dimension mais de type int32"
   ]
  },
  {
   "cell_type": "code",
   "execution_count": 64,
   "metadata": {},
   "outputs": [
    {
     "name": "stdout",
     "output_type": "stream",
     "text": [
      "float : [0.  1.5 3.  4.5 6.  7.5 9. ]\n",
      "int : [0 1 3 4 6 7 9]\n"
     ]
    }
   ],
   "source": [
    "\n",
    "a2_float = np.arange(0.0, 10.0, 1.5)\n",
    "print(\"float : {}\".format(a2_float))\n",
    "\n",
    "a2_int = a2_float.astype(int)\n",
    "print(\"int : {}\".format(a2_int))\n"
   ]
  },
  {
   "cell_type": "markdown",
   "metadata": {},
   "source": [
    "#### Q18 : Normaliser une matrice random 5x5 \n",
    "La normalisation d'un nombre X consiste à lui retirer sa moyenne et a diviser le tout par son écart type "
   ]
  },
  {
   "cell_type": "code",
   "execution_count": 66,
   "metadata": {},
   "outputs": [
    {
     "name": "stdout",
     "output_type": "stream",
     "text": [
      "[[0.89051014 0.47094477 0.30836273 0.36915494 0.52550279]\n",
      " [0.0512753  0.85527647 0.14966586 0.5418932  0.02634095]\n",
      " [0.33687647 0.88008643 0.19421581 0.82763209 0.5135958 ]\n",
      " [0.12012973 0.47624876 0.17785409 0.0661731  0.22073419]\n",
      " [0.06326433 0.19786246 0.73256015 0.60387912 0.46769068]]\n",
      "Moyenne matrice : 0.402709214321\n",
      "Ecart type : 0.274408979269\n",
      "[[ 1.77764199  0.24866371 -0.34381705 -0.12227836  0.44748382]\n",
      " [-1.28069392  1.64924361 -0.9221395   0.50721369 -1.37155957]\n",
      " [-0.2399074   1.73965595 -0.75979075  1.54850209  0.40409242]\n",
      " [-1.02977493  0.26799249 -0.81941605 -1.22640342 -0.6631526 ]\n",
      " [-1.23700356 -0.74650164  1.20204132  0.73310249  0.23680517]]\n"
     ]
    }
   ],
   "source": [
    "m = np.random.rand(5, 5)\n",
    "print(m)\n",
    "\n",
    "print(\"Moyenne matrice : {}\".format(m.mean()))\n",
    "print(\"Ecart type : {}\".format(m.std()))\n",
    "print( (m-m.mean())/m.std() )"
   ]
  },
  {
   "cell_type": "markdown",
   "metadata": {},
   "source": [
    "#### Q19 : Créer une matrice random `M` 2x2 et donner sa transposer \n",
    "L'opération de transposition dans une matrice consiste à échanger les lignes et le colonnes. "
   ]
  },
  {
   "cell_type": "code",
   "execution_count": null,
   "metadata": {},
   "outputs": [],
   "source": [
    "\n",
    "m2 = np.random.rand(3,3)\n",
    "print(m2)\n",
    "\n",
    "m2_transposed = m2.transpose()\n",
    "print(m2_transposed)"
   ]
  },
  {
   "cell_type": "markdown",
   "metadata": {},
   "source": [
    "#### Q20 : Écrire un petit script qui remplace un élément au hasard dans une matrice de dimension NxN"
   ]
  },
  {
   "cell_type": "code",
   "execution_count": 67,
   "metadata": {},
   "outputs": [
    {
     "name": "stdout",
     "output_type": "stream",
     "text": [
      "[[0.68796816 0.79979696 0.79383097 0.12863905]\n",
      " [0.53569507 0.57408467 0.5323795  0.15229332]\n",
      " [0.60350973 0.37919223 0.78984287 0.6740017 ]]\n",
      "[[6.87968161e-01 7.99796957e-01 7.93830968e-01 1.28639050e-01]\n",
      " [5.35695067e-01 5.55500000e+03 5.32379503e-01 1.52293318e-01]\n",
      " [6.03509725e-01 3.79192234e-01 7.89842871e-01 6.74001702e-01]]\n"
     ]
    }
   ],
   "source": [
    "import random\n",
    "\n",
    "def randomCellReplacer(matrix):\n",
    "    matrixLines  = np.size(matrix, 0)\n",
    "    matrixColumn = np.size(matrix, 1)\n",
    "    \n",
    "    matrix[random.randint(0, matrixLines)-1, random.randint(0, matrixLines)-1] = 5555\n",
    "\n",
    "m3 = np.random.rand(3,4)\n",
    "print(m3)\n",
    "\n",
    "randomCellReplacer(m3)\n",
    "print(m3)"
   ]
  },
  {
   "cell_type": "markdown",
   "metadata": {},
   "source": [
    "#### Q21 : Considérons une matrice de dimension (5,5,3), écrire un script qui multiplie cette matrice par une matrice de dimension (5,5)"
   ]
  },
  {
   "cell_type": "code",
   "execution_count": 68,
   "metadata": {},
   "outputs": [
    {
     "name": "stdout",
     "output_type": "stream",
     "text": [
      "[[[0.0632628  0.46875961 0.51486441]\n",
      "  [0.00678862 0.47607554 0.01837112]\n",
      "  [0.57465544 0.05060821 0.58689579]\n",
      "  [0.76199617 0.56132641 0.80588835]\n",
      "  [0.1679017  0.77683308 0.61934187]]\n",
      "\n",
      " [[0.559885   0.3263454  0.06432442]\n",
      "  [0.31003526 0.77986457 0.89784545]\n",
      "  [0.05602602 0.31305528 0.19726403]\n",
      "  [0.74194957 0.98119203 0.41920158]\n",
      "  [0.8398466  0.99175313 0.49884713]]\n",
      "\n",
      " [[0.63742541 0.07666173 0.40965267]\n",
      "  [0.97291791 0.7843422  0.71027874]\n",
      "  [0.58437908 0.5781585  0.28036877]\n",
      "  [0.58055333 0.4985075  0.59295131]\n",
      "  [0.11401724 0.43114221 0.92122248]]\n",
      "\n",
      " [[0.29162912 0.98958069 0.82796495]\n",
      "  [0.76205898 0.77083172 0.01206048]\n",
      "  [0.19080188 0.00509534 0.07625174]\n",
      "  [0.64804526 0.41034091 0.42807949]\n",
      "  [0.95077114 0.31630581 0.52033138]]\n",
      "\n",
      " [[0.50988814 0.24614148 0.60679025]\n",
      "  [0.82276396 0.14821264 0.12088226]\n",
      "  [0.62995559 0.99192016 0.75442538]\n",
      "  [0.04258925 0.84762038 0.41822968]\n",
      "  [0.05636624 0.51527908 0.9907818 ]]]\n"
     ]
    }
   ],
   "source": [
    "\n",
    "m4 = np.random.rand(5,5,3)\n",
    "print(m4)"
   ]
  },
  {
   "cell_type": "code",
   "execution_count": null,
   "metadata": {},
   "outputs": [],
   "source": []
  }
 ],
 "metadata": {
  "kernelspec": {
   "display_name": "Python 2",
   "language": "python",
   "name": "python2"
  },
  "language_info": {
   "codemirror_mode": {
    "name": "ipython",
    "version": 2
   },
   "file_extension": ".py",
   "mimetype": "text/x-python",
   "name": "python",
   "nbconvert_exporter": "python",
   "pygments_lexer": "ipython2",
   "version": "2.7.17"
  }
 },
 "nbformat": 4,
 "nbformat_minor": 2
}
